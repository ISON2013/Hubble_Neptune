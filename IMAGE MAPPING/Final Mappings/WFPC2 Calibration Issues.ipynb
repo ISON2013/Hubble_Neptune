{
 "cells": [
  {
   "cell_type": "code",
   "execution_count": 1,
   "metadata": {},
   "outputs": [
    {
     "name": "stdout",
     "output_type": "stream",
     "text": [
      "Imported and initialised matplotlib...\n",
      "Imported Astropy...\n",
      "Imported User Defined Functions...\n",
      "Imported Oliver King's tools, v1.4 ...\n",
      "Graphical Parameters initialised...\n",
      "All Modules Imported Successfully!\n"
     ]
    }
   ],
   "source": [
    "#RUN ME BEFORE ANYTHING ELSE!!! I import all of the required modules and functions!!\n",
    "import matplotlib.pyplot as plt\n",
    "%matplotlib inline\n",
    "plt.ion()\n",
    "print('Imported and initialised matplotlib...')\n",
    "import astropy.io.fits as ast\n",
    "print('Imported Astropy...')\n",
    "from MapFunc import *\n",
    "print('Imported User Defined Functions...')\n",
    "from tools.mapping import *\n",
    "from tools.image import *\n",
    "print(\"Imported Oliver King's tools, v1.4 ...\")\n",
    "col = 'viridis'\n",
    "xcol = 'red'\n",
    "lvls = 1000\n",
    "print(\"Graphical Parameters initialised...\")\n",
    "print('All Modules Imported Successfully!')"
   ]
  },
  {
   "cell_type": "markdown",
   "metadata": {},
   "source": [
    "# 2008 467nm"
   ]
  },
  {
   "cell_type": "code",
   "execution_count": null,
   "metadata": {},
   "outputs": [],
   "source": [
    "mfac = 0.88\n",
    "img, hdr, scihdr = open_img('data/2008/467/hst_11156_47_wfpc2_f467m_pc_drz.fits')\n",
    "eph = get_ephemerides(target='neptune',loc='hst',epoch=hdr['EXPSTART'])\n",
    "\n",
    "IF, pltscl = calc_IF(eph['r'], scihdr['PHOTFLAM'], 2019.07, PlateScale = 0.05)\n",
    "\n",
    "img = interp_image(img,4) #interpolate image to have higher resolution, rest of the block deals with the consequences of this\n",
    "pltscl = pltscl/4\n",
    "\n",
    "plt.figure(figsize=(15,8))\n",
    "ax1 = plt.subplot(221)\n",
    "im = ax1.imshow(img, cmap=col)\n",
    "plt.title('Raw MAST Image')\n",
    "plt.colorbar(im)\n",
    "ax1.axis('off')\n",
    "\n",
    "img = img*IF\n",
    "\n",
    "ax2 = plt.subplot(222)\n",
    "im2 = ax2.imshow(img, cmap=col)\n",
    "plt.title('Calibrated Image')\n",
    "plt.colorbar(im2)\n",
    "ax2.axis('off')\n",
    "\n",
    "rad = float(eph['ang_width'])/(2*pltscl)\n",
    "img, y, x = circ(img,rad)\n",
    "img, planicentre = get_planicentre(img,rad)\n",
    "\n",
    "ax3 = plt.subplot(223)\n",
    "im3 = ax3.imshow(img, cmap=col)\n",
    "plt.title('Zoomed Image with Planicentre')\n",
    "ax3.axhline(planicentre[1],color=xcol)\n",
    "ax3.axvline(planicentre[0],color=xcol)\n",
    "ax3.plot(x+planicentre[0], y+planicentre[1],color=xcol)\n",
    "plt.colorbar(im3)\n",
    "ax3.axis('off')\n",
    "\n",
    "img = minnaert(img, planicentre, mfac, eph)\n",
    "\n",
    "ax4 = plt.subplot(224)\n",
    "im4 = ax4.imshow(img, cmap=col)\n",
    "plt.title('Minnaert Corrected Image')\n",
    "#ax4.axhline(planicentre[1],color=xcol)\n",
    "#ax4.axvline(planicentre[0],color=xcol)\n",
    "ax4.plot(x+planicentre[0], y+planicentre[1],color=xcol)\n",
    "plt.colorbar(im4)\n",
    "ax4.axis('off')\n",
    "\n",
    "ang_corr = float(scihdr['ORIENTAT'])-float(eph['NPole_ang']) #the angle with which to correct the north pole of the image\n",
    "\n",
    "mapped_img = map_observation(img, planicentre[0], planicentre[1], planicentre[2], ang_corr, eph['PDObsLon'], eph['PDObsLat'])\n",
    "\n",
    "plt.figure(figsize=(15,7))\n",
    "plt.contourf(mapped_img[1], mapped_img[2], mapped_img[0],levels=lvls)\n",
    "plt.xlabel('Longitude')\n",
    "plt.ylabel('Latitude')\n",
    "plt.title('2008 Map: F467M. Minnaert Correction = '+str(mfac))\n",
    "plt.colorbar()\n",
    "plt.show()\n",
    "\n",
    "flipped_img = np.flip(mapped_img[0],0)\n",
    "\n",
    "#plt.figure(figsize=(15,14))\n",
    "#ax1 = plt.subplot(211)\n",
    "#ax1.imshow(mapped_img[0])\n",
    "#ax2 = plt.subplot(212)\n",
    "#ax2.imshow(flipped_img)\n",
    "#plt.show()\n",
    "\n",
    "#Save the Plot to a File\n",
    "plt.figure(figsize=(15,7)) #saves the map to a .png to possibly be used in my report\n",
    "plt.contourf(mapped_img[1], mapped_img[2], mapped_img[0],levels=lvls)\n",
    "plt.axis('off')\n",
    "plt.savefig('maps/2008/467_1.png')\n",
    "plt.close()\n",
    "\n",
    "hdu = ast.PrimaryHDU(flipped_img) #saves the map to a fits image to be read by the reflectance plotter#\n",
    "hdu.writeto('maps/2008/467_cal.fits')\n",
    "\n",
    "writer467.writerow([float(hdr['EXPSTART'])])"
   ]
  },
  {
   "cell_type": "code",
   "execution_count": null,
   "metadata": {},
   "outputs": [],
   "source": []
  },
  {
   "cell_type": "code",
   "execution_count": null,
   "metadata": {},
   "outputs": [],
   "source": []
  },
  {
   "cell_type": "code",
   "execution_count": null,
   "metadata": {},
   "outputs": [],
   "source": []
  }
 ],
 "metadata": {
  "kernelspec": {
   "display_name": "Python 3",
   "language": "python",
   "name": "python3"
  },
  "language_info": {
   "codemirror_mode": {
    "name": "ipython",
    "version": 3
   },
   "file_extension": ".py",
   "mimetype": "text/x-python",
   "name": "python",
   "nbconvert_exporter": "python",
   "pygments_lexer": "ipython3",
   "version": "3.8.5"
  }
 },
 "nbformat": 4,
 "nbformat_minor": 4
}
