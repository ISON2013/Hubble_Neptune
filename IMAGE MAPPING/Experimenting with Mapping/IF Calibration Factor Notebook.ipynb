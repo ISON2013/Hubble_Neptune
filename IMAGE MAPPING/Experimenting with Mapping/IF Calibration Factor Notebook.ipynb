{
 "cells": [
  {
   "cell_type": "markdown",
   "metadata": {},
   "source": [
    "# I/F Calculator Correction Sheet"
   ]
  },
  {
   "cell_type": "code",
   "execution_count": 2,
   "metadata": {},
   "outputs": [
    {
     "name": "stdout",
     "output_type": "stream",
     "text": [
      "Required Libraries Loaded Successfully...\n",
      "Matplotlib Intialised...\n",
      "Imported Oliver King's Planetary Science Tools Successfully...\n",
      "Defined all Necessary Unit Conversion Routines...\n",
      "\n",
      "All Modules Imported Successfully!\n"
     ]
    }
   ],
   "source": [
    "import matplotlib.pyplot as plt\n",
    "import astropy.io.fits as ast\n",
    "import numpy as np\n",
    "import csv\n",
    "\n",
    "from astropy.io import fits\n",
    "from astropy.utils.data import get_pkg_data_filename \n",
    "\n",
    "from photutils import centroid_com\n",
    "\n",
    "print(\"Required Libraries Loaded Successfully...\")\n",
    "\n",
    "%matplotlib inline\n",
    "plt.ion()\n",
    "print(\"Matplotlib Intialised...\")\n",
    "\n",
    "import tools\n",
    "print(\"Imported Oliver King's Planetary Science Tools Successfully...\")\n",
    "\n",
    "def AU_to_km(n):\n",
    "    Dist = n*149598000\n",
    "    return Dist\n",
    "print(\"Defined all Necessary Unit Conversion Routines...\")\n",
    "\n",
    "print(\"\\nAll Modules Imported Successfully!\")\n",
    "\n",
    "#initialises the crucial variables\n",
    "filepath = \"OPAL RAWS/Cycle_26/1/\"\n",
    "filters = ['F467M','F547M','FQ619N','F657N','FQ727N','F763M','F845M']\n",
    "wavelength = ['467','547','619','657','727','763','845']\n",
    "SolFlux = [2019.04,1859.82,1707.85,1238,1339.23,1541.91,1023.5] #Solar Flux in each filter wavelengths according to Amy Simon's Spreadsheet \n",
    "IF_Factors_OPAL = [0.00475,0.00249,0.00160,0.00405,0.00203,0.00145,0.00130] #taken from the OPAL ReadMe\n",
    "fitsdata = ['','','','','','','']\n",
    "resolution = ['','','','','','','']\n",
    "imgdata = ['','','','','','','']\n",
    "fitshdr = ['','','','','','','']\n",
    "scihdr = ['','','','','','','']\n",
    "ephemerides = ['','','','','','','']\n",
    "CLEANUPFLAG = False\n",
    "\n",
    "for i in range(len(filters)):\n",
    "    file = get_pkg_data_filename(filepath+filters[i]+'/'+wavelength[i]+'_1_drz.fits')\n",
    "    fitsdata[i] = fits.open(file)\n",
    "    imgdata[i] = fits.getdata(file, ext=1)\n",
    "    resolution[i] = imgdata[i].shape\n",
    "    fitshdr[i] = fitsdata[i][0].header\n",
    "    scihdr[i] = fitsdata[i][1].header\n",
    "    #899 = Neptune Moving Target\n",
    "    #@hst = Hubble Space Telescope\n",
    "    #reads epoch from header[exposure start time]\n",
    "    ephemerides[i] = tools.mapping.get_ephemerides(target = 'neptune', loc = 'hst', epoch = fitshdr[i]['EXPSTART']) "
   ]
  },
  {
   "cell_type": "code",
   "execution_count": 13,
   "metadata": {},
   "outputs": [
    {
     "name": "stdout",
     "output_type": "stream",
     "text": [
      "I/F Factors Calculated : [0.00063 0.00019 0.00207 0.00132 0.00265 0.00019 0.00034]\n",
      "I/F Factors OPAL Readme: [0.00475, 0.00249, 0.0016, 0.00405, 0.00203, 0.00145, 0.0013]\n",
      "\n",
      "My Distance Calculated  : [29.98781315 30.14968326 29.9473752  29.89762994 29.94832236 30.06621391\n",
      " 30.14694097]\n",
      "OPAL Distance Calculated: [ 82.34198387 109.1454478   26.32895258  52.36936502  26.21184439\n",
      "  83.0588557   58.94886778]\n",
      "Distance Ephemerides    : [29.93438305 29.93438303 29.93438273 29.93438301 29.93438287 29.934383\n",
      " 29.93438307]\n",
      "\n",
      "My Determined PHOTFLAM: [1.69927901e-18 4.72067102e-19 4.72279722e-18 2.18310084e-18\n",
      " 4.74111259e-18 3.91373889e-19 4.64885482e-19]\n",
      "Header PHOTFLAM       : [1.6932291e-18 4.6534907e-19 4.7187002e-18 2.1884715e-18 4.7367001e-18\n",
      " 3.8794931e-19 4.5835303e-19]\n",
      "Amy PHOTFLAM          : [1.639547e-18, 4.5253925e-19, 4.677e-18, 2.14434e-18, 4.653e-18, 3.8165376e-19, 4.5375198e-19]\n"
     ]
    }
   ],
   "source": [
    "#Defines the constants needed to calculate I/F conversion factor that are based on the WFC3/UVIS Instrument\n",
    "#PixWidth = plate scale of WFC3/UVIS, taken from Amy Simon's Uranus Spreadsheet, and checked with the WFC3 Manual\n",
    "PixWidth = 0.04 #arcseconds \n",
    "#omega = Solid Angle of a Single WFC3/UVIS Pixel\n",
    "omega = ((PixWidth/3600)*(np.pi/180))**2 #steradians\n",
    "\n",
    "#initialises the array of I/F factors for the imported imageset\n",
    "IF_Factors = np.zeros(len(filters))\n",
    "Distances = np.zeros(len(filters))\n",
    "OPAL_dist = np.zeros(len(filters))\n",
    "eph_dist = np.zeros(len(filters))\n",
    "calc_PF = np.zeros(len(filters))\n",
    "amy_PF = [1.639547e-18,4.5253925e-19,4.677e-18,2.14434e-18,4.653e-18,3.8165376e-19,4.5375198e-19]\n",
    "hdr_PF = np.zeros(len(filters))\n",
    "\n",
    "\n",
    "#determines I/F factors with the above formula for each image in the set\n",
    "for i in range(len(filters)):\n",
    "    fractop = ((scihdr[i]['PHOTFLAM']*10)/omega)\n",
    "    fracbottom = ((1.0/ephemerides[i]['r'])**2)*(SolFlux[i]/np.pi)\n",
    "    IF_Factors[i] = fractop/fracbottom\n",
    "    IF_Factors[i] = round(IF_Factors[i],5)\n",
    "    \n",
    "    Distances[i] = (((scihdr[i]['PHOTFLAM']*10)/omega)/(IF_Factors[i]*(SolFlux[i]/np.pi)))**(-0.5)\n",
    "    OPAL_dist[i] = (((scihdr[i]['PHOTFLAM']*10)/omega)/(IF_Factors_OPAL[i]*(SolFlux[i]/np.pi)))**(-0.5)\n",
    "    eph_dist[i] = ephemerides[i]['r']\n",
    "    \n",
    "    hdr_PF[i] = scihdr[i]['PHOTFLAM']\n",
    "    calc_PF[i] = (omega*(IF_Factors[i]*((1.0/ephemerides[i]['r'])**2)*(SolFlux[i]/np.pi)))/10\n",
    "    \n",
    "print('I/F Factors I Calculated: '+str(IF_Factors))    \n",
    "print('I/F Factors OPAL Readme : '+str(IF_Factors_OPAL))\n",
    "print('')\n",
    "print('My Distance Calculated  : '+str(Distances))\n",
    "print('OPAL Distance Calculated: '+str(OPAL_dist))\n",
    "print('Distance Ephemerides    : '+str(eph_dist))\n",
    "print('')\n",
    "print('My Determined PHOTFLAM: '+str(calc_PF))\n",
    "print('Header PHOTFLAM       : '+str(hdr_PF))\n",
    "print('Spreadsheet PHOTFLAM  : '+str(amy_PF))"
   ]
  },
  {
   "cell_type": "code",
   "execution_count": null,
   "metadata": {},
   "outputs": [],
   "source": []
  }
 ],
 "metadata": {
  "kernelspec": {
   "display_name": "Python 3",
   "language": "python",
   "name": "python3"
  },
  "language_info": {
   "codemirror_mode": {
    "name": "ipython",
    "version": 3
   },
   "file_extension": ".py",
   "mimetype": "text/x-python",
   "name": "python",
   "nbconvert_exporter": "python",
   "pygments_lexer": "ipython3",
   "version": "3.8.5"
  }
 },
 "nbformat": 4,
 "nbformat_minor": 4
}
